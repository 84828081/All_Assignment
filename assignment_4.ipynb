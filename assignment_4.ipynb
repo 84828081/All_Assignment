{
 "cells": [
  {
   "cell_type": "code",
   "execution_count": null,
   "metadata": {},
   "outputs": [],
   "source": [
    "dict = {'First_Name': 'Sameer', 'Last_name': 'Hussain', 'Age': '20', 'City' : 'Karachi'}\n",
    "print(dict['First_Name'])\n",
    "print(dict['Last_name'])\n",
    "print(dict['Age'])\n",
    "print(dict['City'])\n",
    "dict['Qualification']='under graduate'\n",
    "print(dict['Qualification'])\n",
    "dict['Qualification']='High Academic Level'\n",
    "print(dict['Qualification'])\n",
    "del dict['Qualification']\n"
   ]
  },
  {
   "cell_type": "code",
   "execution_count": null,
   "metadata": {},
   "outputs": [],
   "source": [
    "cities ={'karachi':{'country':'pak','population':'20M','fact':'highly developed'},'lahore':{'country':'pak','population':'10M','fact':'beautiful'},'isl':{'country':'pak','population':'5M','fact':'recent one'}}\n",
    "print(cities['karachi']['country'])\n",
    "print(cities['karachi']['population'])\n",
    "print(cities['karachi']['fact'])\n",
    "print(cities['lahore']['country'])\n",
    "print(cities['lahore']['population'])\n",
    "print(cities['lahore']['fact'])\n",
    "print(cities['isl']['country'])\n",
    "print(cities['isl']['population'])\n",
    "print(cities['isl']['fact'])"
   ]
  },
  {
   "cell_type": "code",
   "execution_count": null,
   "metadata": {},
   "outputs": [],
   "source": [
    "a=3\n",
    "b=12\n",
    "while True:\n",
    "    i=int(input(\"enter age\"))\n",
    "    if i < a:\n",
    "        print('your ticket is FREE')\n",
    "    elif((i >= a) & (i <= b)):\n",
    "        print('Ticket is of 10 dollars')\n",
    "    else:\n",
    "        print('Ticket is of 15 dollars')\n",
    "\n",
    "    "
   ]
  },
  {
   "cell_type": "code",
   "execution_count": 2,
   "metadata": {},
   "outputs": [
    {
     "name": "stdout",
     "output_type": "stream",
     "text": [
      "the title is JAVA\n"
     ]
    }
   ],
   "source": [
    "def book (title):\n",
    "    print(\"the title is\",title)\n",
    "    \n",
    "book(\"JAVA\")"
   ]
  },
  {
   "cell_type": "code",
   "execution_count": 9,
   "metadata": {},
   "outputs": [
    {
     "name": "stdout",
     "output_type": "stream",
     "text": [
      "enter no8\n",
      "your value is larger than actual value\n",
      "enter no7\n",
      "your value is larger than actual value\n",
      "enter no5\n",
      "your value is smaller than actual value\n",
      "game over\n",
      "Actual value is  6\n"
     ]
    }
   ],
   "source": [
    "from random import randint\n",
    "j=1\n",
    "value = randint(0, 10)\n",
    "while j < 4:\n",
    "    i=int(input(\"enter no\"))\n",
    "    if(i>value):\n",
    "        print('your value is larger than actual value')\n",
    "        j= j + 1\n",
    "    elif(i<value):\n",
    "        print('your value is smaller than actual value')\n",
    "        j= j + 1\n",
    "    elif( i == value):\n",
    "        print('your value is correct')\n",
    "        break\n",
    "print('game over') \n",
    "print('Actual value is ',value)"
   ]
  },
  {
   "cell_type": "code",
   "execution_count": null,
   "metadata": {},
   "outputs": [],
   "source": []
  },
  {
   "cell_type": "code",
   "execution_count": null,
   "metadata": {},
   "outputs": [],
   "source": []
  },
  {
   "cell_type": "code",
   "execution_count": null,
   "metadata": {},
   "outputs": [],
   "source": []
  },
  {
   "cell_type": "code",
   "execution_count": null,
   "metadata": {},
   "outputs": [],
   "source": []
  },
  {
   "cell_type": "code",
   "execution_count": null,
   "metadata": {},
   "outputs": [],
   "source": []
  }
 ],
 "metadata": {
  "kernelspec": {
   "display_name": "Python 3",
   "language": "python",
   "name": "python3"
  },
  "language_info": {
   "codemirror_mode": {
    "name": "ipython",
    "version": 3
   },
   "file_extension": ".py",
   "mimetype": "text/x-python",
   "name": "python",
   "nbconvert_exporter": "python",
   "pygments_lexer": "ipython3",
   "version": "3.7.4"
  }
 },
 "nbformat": 4,
 "nbformat_minor": 2
}
