{
 "cells": [
  {
   "cell_type": "code",
   "execution_count": 10,
   "metadata": {},
   "outputs": [
    {
     "name": "stdout",
     "output_type": "stream",
     "text": [
      "enter your maths value out of 100 :50\n",
      "enter your physics value out of 100 :60\n",
      "enter your chemistry value out of 100 :78\n",
      "enter your urdu value out of 100 :98\n",
      "enter yourpak.studies value out of 100 :45\n",
      "66.2\n",
      "C grade\n"
     ]
    }
   ],
   "source": [
    "a=int(input(\"enter your maths value out of 100 :\"))\n",
    "b=int(input(\"enter your physics value out of 100 :\"))\n",
    "c=int(input(\"enter your chemistry value out of 100 :\"))\n",
    "d=int(input(\"enter your urdu value out of 100 :\"))\n",
    "e=int(input(\"enter yourpak.studies value out of 100 :\"))\n",
    "x=a+b+c+d+e\n",
    "y=((x/500)*100)\n",
    "print(y)\n",
    "if(y<100 and y>90):\n",
    "    print(\"A-one grade\")\n",
    "if(y<90 and y>80):\n",
    "    print(\"A grade\")\n",
    "if(y<80 and y>70):\n",
    "    print(\"B grade\")\n",
    "if (y<70 and y>60):\n",
    "    print(\"C grade\")\n",
    "if(y<60 and y>50):\n",
    "    print(\"D grade\")\n",
    "     \n",
    "\n"
   ]
  },
  {
   "cell_type": "code",
   "execution_count": 13,
   "metadata": {},
   "outputs": [
    {
     "name": "stdout",
     "output_type": "stream",
     "text": [
      "enter any no :68\n",
      "even no\n"
     ]
    }
   ],
   "source": [
    "a=int(input(\"enter any no :\"))\n",
    "if(a%2==0):\n",
    "    print(\"even no\")\n",
    "else:\n",
    "    print(\"odd no\")"
   ]
  },
  {
   "cell_type": "code",
   "execution_count": 14,
   "metadata": {},
   "outputs": [
    {
     "name": "stdout",
     "output_type": "stream",
     "text": [
      "6\n"
     ]
    }
   ],
   "source": [
    "numbers=[\"1\",\"2\",\"3\",\"4\",\"67\",\"84\"]\n",
    "print(len(numbers))\n"
   ]
  },
  {
   "cell_type": "code",
   "execution_count": 16,
   "metadata": {},
   "outputs": [
    {
     "name": "stdout",
     "output_type": "stream",
     "text": [
      "10000000\n"
     ]
    }
   ],
   "source": [
    "list=[84,67,89,99,100,789,587,888,9987,10000,10000000]\n",
    "list.sort()\n",
    "print(list[-1])"
   ]
  },
  {
   "cell_type": "code",
   "execution_count": 17,
   "metadata": {},
   "outputs": [
    {
     "name": "stdout",
     "output_type": "stream",
     "text": [
      "265\n"
     ]
    }
   ],
   "source": [
    "no=[1,2,3,8,99,65,87]\n",
    "no2=(sum(no))\n",
    "print(no2)"
   ]
  },
  {
   "cell_type": "code",
   "execution_count": null,
   "metadata": {},
   "outputs": [],
   "source": []
  }
 ],
 "metadata": {
  "kernelspec": {
   "display_name": "Python 3",
   "language": "python",
   "name": "python3"
  },
  "language_info": {
   "codemirror_mode": {
    "name": "ipython",
    "version": 3
   },
   "file_extension": ".py",
   "mimetype": "text/x-python",
   "name": "python",
   "nbconvert_exporter": "python",
   "pygments_lexer": "ipython3",
   "version": "3.7.4"
  }
 },
 "nbformat": 4,
 "nbformat_minor": 2
}
